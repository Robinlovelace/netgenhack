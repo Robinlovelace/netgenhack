{
 "cells": [
  {
   "cell_type": "markdown",
   "metadata": {},
   "source": [
    "- Get network for a bounding box\n",
    "- Bring in flow data\n",
    "- Measure centrality\n",
    "- Derive edge-level attractiveness"
   ]
  },
  {
   "cell_type": "code",
   "execution_count": 19,
   "metadata": {},
   "outputs": [],
   "source": [
    "import OSM2AT\n",
    "import pandas as pd\n",
    "import geopandas as gpd\n",
    "import graph_tool.all as gt\n",
    "import numpy as np\n",
    "import matplotlib.pyplot as plt"
   ]
  },
  {
   "cell_type": "code",
   "execution_count": 2,
   "metadata": {},
   "outputs": [],
   "source": [
    "area_of_study = gpd.read_file('../local_data/one_DL.geoJSON').to_crs('EPSG:4326')"
   ]
  },
  {
   "cell_type": "code",
   "execution_count": 3,
   "metadata": {},
   "outputs": [],
   "source": [
    "line_coords = list(area_of_study['geometry'][0].coords)"
   ]
  },
  {
   "cell_type": "code",
   "execution_count": 151,
   "metadata": {},
   "outputs": [
    {
     "data": {
      "text/plain": [
       "[(0.026062515872869813, 51.45217367655291),\n",
       " (-0.11606296821445392, 51.500412545286565)]"
      ]
     },
     "execution_count": 151,
     "metadata": {},
     "output_type": "execute_result"
    }
   ],
   "source": [
    "line_coords"
   ]
  },
  {
   "cell_type": "code",
   "execution_count": 154,
   "metadata": {},
   "outputs": [
    {
     "data": {
      "text/plain": [
       "51.45217367655291"
      ]
     },
     "execution_count": 154,
     "metadata": {},
     "output_type": "execute_result"
    }
   ],
   "source": [
    "line_coords[0][1]"
   ]
  },
  {
   "cell_type": "code",
   "execution_count": 4,
   "metadata": {},
   "outputs": [],
   "source": [
    "bounding_box = tuple([line_coords[1][0],line_coords[0][1],line_coords[0][0],line_coords[1][1]])"
   ]
  },
  {
   "cell_type": "code",
   "execution_count": 5,
   "metadata": {},
   "outputs": [
    {
     "name": "stderr",
     "output_type": "stream",
     "text": [
      "/home/chris/miniconda3/envs/gt/lib/python3.12/site-packages/OSM2AT/get_at_networks.py:48: FutureWarning: The `north`, `south`, `east`, and `west` parameters are deprecated and will be removed in the v2.0.0 release. Use the `bbox` parameter instead.\n",
      "  G = ox.graph_from_bbox(bounding_box[3],bounding_box[1], bounding_box[0], bounding_box[2],network_type = 'bike',retain_all=True,simplify=False)\n",
      "/home/chris/miniconda3/envs/gt/lib/python3.12/site-packages/OSM2AT/get_at_networks.py:55: UserWarning: Geometry is in a geographic CRS. Results from 'centroid' are likely incorrect. Use 'GeoSeries.to_crs()' to re-project geometries to a projected CRS before this operation.\n",
      "\n",
      "  edge_attributes['cent_x'] = edge_attributes['geometry'].centroid.x\n",
      "/home/chris/miniconda3/envs/gt/lib/python3.12/site-packages/OSM2AT/get_at_networks.py:56: UserWarning: Geometry is in a geographic CRS. Results from 'centroid' are likely incorrect. Use 'GeoSeries.to_crs()' to re-project geometries to a projected CRS before this operation.\n",
      "\n",
      "  edge_attributes['cent_y'] = edge_attributes['geometry'].centroid.y\n"
     ]
    },
    {
     "name": "stdout",
     "output_type": "stream",
     "text": [
      "Imputing Max Speed\n",
      "Imputing data using method - Mode Rule\n",
      "Data imputed\n",
      "Imputing Number of Lanes\n",
      "Imputing data using method - Mode Rule\n",
      "Data imputed\n",
      "Imputing Surface\n",
      "Index(['osmid', 'oneway', 'highway', 'surface', 'lit', 'bicycle', 'segregated',\n",
      "       'reversed', 'length', 'name', 'maxspeed', 'motor_vehicle', 'lanes',\n",
      "       'ref', 'cycleway:left', 'cycleway:both', 'sidewalk', 'cycleway:right',\n",
      "       'cycleway:right:oneway', 'access', 'service', 'cycleway:left:oneway',\n",
      "       'cycleway', 'junction', 'busway', 'cycleway:lane', 'cycleway:surface',\n",
      "       'bridge', 'bus', 'width', 'bicycle:conditional', 'tunnel', 'est_width',\n",
      "       'area', 'footway', 'path', 'construction', 'geometry', 'cent_x',\n",
      "       'cent_y', 'edge_index'],\n",
      "      dtype='object')\n",
      "Imputing data using method - mode rule\n",
      "Data imputed\n",
      "Calculating LTS using Ottawa Advocacy Group method\n"
     ]
    }
   ],
   "source": [
    "G,edges = OSM2AT.get_cycle_network(bounding_box,'mode-rule','ottawa','bb',None)"
   ]
  },
  {
   "cell_type": "code",
   "execution_count": 6,
   "metadata": {},
   "outputs": [],
   "source": [
    "from geopandas import GeoDataFrame\n",
    "edge_attributes_gdf = GeoDataFrame(edges, crs=\"EPSG:4326\", geometry=edges['geometry'])\n",
    "edge_attributes_gdf.columns = edge_attributes_gdf.columns.astype(str)\n",
    "edge_attributes_gdf.to_file(\"../local_data/example_bbox.json\", driver=\"GeoJSON\")"
   ]
  },
  {
   "cell_type": "code",
   "execution_count": 7,
   "metadata": {},
   "outputs": [],
   "source": [
    "edges_strava = pd.read_csv(\"../local_data/all_edges_yearly_2019_ride_london/edges_london.csv\")\n",
    "#test = edges.merge(edges_strava[[\"osm_reference_id\", \"forward_commute_trip_count\"]], left_on = \"osmid\", right_on = \"osm_reference_id\", how = \"left\")"
   ]
  },
  {
   "cell_type": "code",
   "execution_count": 8,
   "metadata": {},
   "outputs": [],
   "source": []
  },
  {
   "cell_type": "code",
   "execution_count": 9,
   "metadata": {},
   "outputs": [],
   "source": [
    "edges['unique_id'] = range(len(edges))"
   ]
  },
  {
   "cell_type": "code",
   "execution_count": 10,
   "metadata": {},
   "outputs": [],
   "source": [
    "def get_centrality(edges):\n",
    "\n",
    "    edge_list = []\n",
    "    for i,e in edges.iterrows():\n",
    "        edge_list.append(tuple([str(i[0]),str(i[1]),e['length'],e['LTS'],e['unique_id']]))\n",
    "        \n",
    "    g = gt.Graph()\n",
    "\n",
    "    elength = g.new_ep(\"float\")\n",
    "    elts = g.new_ep(\"int\")\n",
    "    eid = g.new_ep(\"int\")\n",
    "\n",
    "    g.add_edge_list(edge_list, hashed = True,eprops=[elength, elts, eid])\n",
    "\n",
    "    vp, ep = gt.betweenness(g,weight=elength)\n",
    "\n",
    "    return vp, ep, g, eid"
   ]
  },
  {
   "cell_type": "code",
   "execution_count": 11,
   "metadata": {},
   "outputs": [],
   "source": [
    "vp, ep, g, eid = get_centrality(edges)"
   ]
  },
  {
   "cell_type": "code",
   "execution_count": 12,
   "metadata": {},
   "outputs": [],
   "source": [
    "id_centrality = {}\n",
    "\n",
    "for e in g.edges():\n",
    "    id_centrality[eid[e]] = ep[e]"
   ]
  },
  {
   "cell_type": "code",
   "execution_count": 13,
   "metadata": {},
   "outputs": [],
   "source": [
    "edges['centrality'] = edges['unique_id'].map(id_centrality)"
   ]
  },
  {
   "cell_type": "code",
   "execution_count": 14,
   "metadata": {},
   "outputs": [],
   "source": [
    "id2centrality = {}\n",
    "ids = list(edges['osmid'])\n",
    "\n",
    "for id in ids:\n",
    "    id2centrality[id] = edges[edges['osmid']==id]['centrality'].mode().values[0]\n",
    "\n",
    "edges_strava['centrality'] = edges_strava['osm_reference_id'].map(id2centrality)"
   ]
  },
  {
   "cell_type": "code",
   "execution_count": 15,
   "metadata": {},
   "outputs": [],
   "source": [
    "edges_strava_dedup = edges_strava[edges_strava['centrality'].notna()]"
   ]
  },
  {
   "cell_type": "code",
   "execution_count": 17,
   "metadata": {},
   "outputs": [],
   "source": [
    "def min_max_normalization(column):\n",
    "    min_val = column.min()\n",
    "    max_val = column.max()\n",
    "    \n",
    "    normalized_column = (column - min_val) / (max_val - min_val)\n",
    "    \n",
    "    return normalized_column"
   ]
  },
  {
   "cell_type": "code",
   "execution_count": 22,
   "metadata": {},
   "outputs": [
    {
     "name": "stderr",
     "output_type": "stream",
     "text": [
      "/tmp/ipykernel_216077/3600993532.py:2: SettingWithCopyWarning: \n",
      "A value is trying to be set on a copy of a slice from a DataFrame.\n",
      "Try using .loc[row_indexer,col_indexer] = value instead\n",
      "\n",
      "See the caveats in the documentation: https://pandas.pydata.org/pandas-docs/stable/user_guide/indexing.html#returning-a-view-versus-a-copy\n",
      "  edges_strava_dedup['forward_commute_trip_count_n'] = min_max_normalization(edges_strava_dedup['forward_commute_trip_count'])\n",
      "/tmp/ipykernel_216077/3600993532.py:3: SettingWithCopyWarning: \n",
      "A value is trying to be set on a copy of a slice from a DataFrame.\n",
      "Try using .loc[row_indexer,col_indexer] = value instead\n",
      "\n",
      "See the caveats in the documentation: https://pandas.pydata.org/pandas-docs/stable/user_guide/indexing.html#returning-a-view-versus-a-copy\n",
      "  edges_strava_dedup['centrality_n'] = min_max_normalization(edges_strava_dedup['centrality'])\n"
     ]
    }
   ],
   "source": [
    "# Apply min-max normalization to the 'Value' column\n",
    "edges_strava_dedup['forward_commute_trip_count_n'] = min_max_normalization(edges_strava_dedup['forward_commute_trip_count'])\n",
    "edges_strava_dedup['centrality_n'] = min_max_normalization(edges_strava_dedup['centrality'])"
   ]
  },
  {
   "cell_type": "code",
   "execution_count": 23,
   "metadata": {},
   "outputs": [
    {
     "data": {
      "text/plain": [
       "<function matplotlib.pyplot.show(close=None, block=None)>"
      ]
     },
     "execution_count": 23,
     "metadata": {},
     "output_type": "execute_result"
    },
    {
     "data": {
      "image/png": "[encoded data removed]",
      "text/plain": [
       "<Figure size 640x480 with 1 Axes>"
      ]
     },
     "metadata": {},
     "output_type": "display_data"
    }
   ],
   "source": [
    "plt.scatter(edges_strava_dedup['forward_commute_trip_count_n'],edges_strava_dedup['centrality_n'])\n",
    "plt.show"
   ]
  },
  {
   "cell_type": "code",
   "execution_count": 24,
   "metadata": {},
   "outputs": [
    {
     "name": "stderr",
     "output_type": "stream",
     "text": [
      "/tmp/ipykernel_216077/3176965528.py:1: SettingWithCopyWarning: \n",
      "A value is trying to be set on a copy of a slice from a DataFrame.\n",
      "Try using .loc[row_indexer,col_indexer] = value instead\n",
      "\n",
      "See the caveats in the documentation: https://pandas.pydata.org/pandas-docs/stable/user_guide/indexing.html#returning-a-view-versus-a-copy\n",
      "  edges_strava_dedup['edge_level_att'] = edges_strava_dedup['forward_commute_trip_count_n'] - edges_strava_dedup['centrality_n']\n"
     ]
    }
   ],
   "source": [
    "edges_strava_dedup['edge_level_att'] = edges_strava_dedup['forward_commute_trip_count_n'] - edges_strava_dedup['centrality_n']"
   ]
  },
  {
   "cell_type": "code",
   "execution_count": 25,
   "metadata": {},
   "outputs": [
    {
     "data": {
      "image/png": "[encoded data removed]",
      "text/plain": [
       "<Figure size 640x480 with 1 Axes>"
      ]
     },
     "metadata": {},
     "output_type": "display_data"
    }
   ],
   "source": [
    "edges_strava_dedup['edge_level_att'].hist()\n",
    "plt.show()"
   ]
  },
  {
   "cell_type": "code",
   "execution_count": 26,
   "metadata": {},
   "outputs": [],
   "source": [
    "csna = gpd.read_file('../local_data/CSNA/tracks_joined.geojson')\n",
    "csna['osm_id'] = csna['osm_id'].astype(int)"
   ]
  },
  {
   "cell_type": "code",
   "execution_count": 126,
   "metadata": {},
   "outputs": [],
   "source": [
    "csna = csna.dropna(subset=['CSNA_level'])"
   ]
  },
  {
   "cell_type": "code",
   "execution_count": 27,
   "metadata": {},
   "outputs": [
    {
     "data": {
      "text/plain": [
       "CSNA_level\n",
       "2.000000    2547\n",
       "3.000000    1489\n",
       "0.000000     605\n",
       "6.000000     421\n",
       "2.500000     303\n",
       "            ... \n",
       "5.578947       1\n",
       "5.470588       1\n",
       "1.947368       1\n",
       "4.714286       1\n",
       "1.333333       1\n",
       "Name: count, Length: 150, dtype: int64"
      ]
     },
     "execution_count": 27,
     "metadata": {},
     "output_type": "execute_result"
    }
   ],
   "source": [
    "csna['CSNA_level'].value_counts()"
   ]
  },
  {
   "cell_type": "code",
   "execution_count": 28,
   "metadata": {},
   "outputs": [],
   "source": [
    "edges_strava_dedup = edges_strava_dedup.merge(csna[['osm_id','CSNA_level']], left_on = 'osm_reference_id', right_on = 'osm_id', how = 'left')"
   ]
  },
  {
   "cell_type": "code",
   "execution_count": 29,
   "metadata": {},
   "outputs": [
    {
     "data": {
      "text/plain": [
       "CSNA_level\n",
       "2.000000    1119\n",
       "3.000000     944\n",
       "0.000000     451\n",
       "2.500000     335\n",
       "6.000000     212\n",
       "4.000000      51\n",
       "5.000000      27\n",
       "2.056452      19\n",
       "2.964286       9\n",
       "2.166667       9\n",
       "2.305556       8\n",
       "5.391304       8\n",
       "3.666667       7\n",
       "4.363636       7\n",
       "3.500000       7\n",
       "2.250000       7\n",
       "2.300000       6\n",
       "2.700000       6\n",
       "2.972222       6\n",
       "1.947368       6\n",
       "2.481481       5\n",
       "2.117647       5\n",
       "3.931034       5\n",
       "2.125000       5\n",
       "4.625000       5\n",
       "5.548387       5\n",
       "2.210526       4\n",
       "5.470588       4\n",
       "5.636364       4\n",
       "2.833333       4\n",
       "3.428571       4\n",
       "2.157895       3\n",
       "2.214286       3\n",
       "2.571429       3\n",
       "0.454545       3\n",
       "3.684211       3\n",
       "2.611111       2\n",
       "2.200000       2\n",
       "4.142857       2\n",
       "3.200000       2\n",
       "2.800000       2\n",
       "3.285714       2\n",
       "2.928571       2\n",
       "2.950000       2\n",
       "4.357143       2\n",
       "2.941176       1\n",
       "3.250000       1\n",
       "3.923077       1\n",
       "4.204545       1\n",
       "3.333333       1\n",
       "3.812500       1\n",
       "1.500000       1\n",
       "4.285714       1\n",
       "3.400000       1\n",
       "5.333333       1\n",
       "2.590909       1\n",
       "2.666667       1\n",
       "4.500000       1\n",
       "Name: count, dtype: int64"
      ]
     },
     "execution_count": 29,
     "metadata": {},
     "output_type": "execute_result"
    }
   ],
   "source": [
    "edges_strava_dedup['CSNA_level'].value_counts()"
   ]
  },
  {
   "cell_type": "code",
   "execution_count": 33,
   "metadata": {},
   "outputs": [],
   "source": [
    "res = edges_strava_dedup[edges_strava_dedup['CSNA_level'].isin([2,3,4])]"
   ]
  },
  {
   "cell_type": "code",
   "execution_count": 41,
   "metadata": {},
   "outputs": [
    {
     "name": "stdout",
     "output_type": "stream",
     "text": [
      "Mean edge level att for CSNA 2 : 0.0009700318849880026\n",
      "Mean edge level att for CSNA 3 : -0.033972997650777735\n",
      "Mean edge level att for CSNA 4 : -0.03186149351201414\n"
     ]
    }
   ],
   "source": [
    "print('Mean edge level att for CSNA 2 : {}'.format(res[res['CSNA_level'] == 2]['edge_level_att'].mean()))\n",
    "print('Mean edge level att for CSNA 3 : {}'.format(res[res['CSNA_level'] == 3]['edge_level_att'].mean()))\n",
    "print('Mean edge level att for CSNA 4 : {}'.format(res[res['CSNA_level'] == 4]['edge_level_att'].mean()))"
   ]
  },
  {
   "cell_type": "code",
   "execution_count": 39,
   "metadata": {},
   "outputs": [
    {
     "data": {
      "text/plain": [
       "-0.033972997650777735"
      ]
     },
     "execution_count": 39,
     "metadata": {},
     "output_type": "execute_result"
    }
   ],
   "source": [
    "res[res['CSNA_level'] == 3]['edge_level_att'].mean()"
   ]
  },
  {
   "cell_type": "code",
   "execution_count": 40,
   "metadata": {},
   "outputs": [
    {
     "data": {
      "text/plain": [
       "-0.03186149351201414"
      ]
     },
     "execution_count": 40,
     "metadata": {},
     "output_type": "execute_result"
    }
   ],
   "source": [
    "res[res['CSNA_level'] == 4]['edge_level_att'].mean()"
   ]
  }
 ],
 "metadata": {
  "kernelspec": {
   "display_name": "Python 3",
   "language": "python",
   "name": "python3"
  },
  "language_info": {
   "codemirror_mode": {
    "name": "ipython",
    "version": 3
   },
   "file_extension": ".py",
   "mimetype": "text/x-python",
   "name": "python",
   "nbconvert_exporter": "python",
   "pygments_lexer": "ipython3",
   "version": "3.12.2"
  },
  "vscode": {
   "interpreter": {
    "hash": "e8aeb57485c609aa759124c22b5b5af0f6c0a927a62cba849043a92a33919dc7"
   }
  }
 },
 "nbformat": 4,
 "nbformat_minor": 2
}
