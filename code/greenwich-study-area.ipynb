{
 "cells": [
  {
   "cell_type": "markdown",
   "metadata": {},
   "source": [
    "## Greenwich Area of Study\n",
    "\n",
    "Select area in Greenwich municipal boundary\n",
    "\n",
    "First: fix dependencies etc in OSM2AT\n",
    "\n",
    "To include\n",
    "\n",
    "- OSM network with LTS\n",
    "- Strava data matching\n",
    "- CSNA ratings at edge level (need to do matching)\n",
    "\n",
    "Then extend network to include connection to high flow cycle to work ODs\n",
    "\n",
    "\n",
    "Can we approximate CSNA ratings using observed flow compared to centrality?"
   ]
  },
  {
   "cell_type": "code",
   "execution_count": 1,
   "metadata": {},
   "outputs": [
    {
     "name": "stderr",
     "output_type": "stream",
     "text": [
      "/home/chris/miniconda3/envs/ate/lib/python3.10/site-packages/OSM2AT/get_at_networks.py:31: UserWarning: The `utils.config` function is deprecated and will be removed in a future release. Instead, use the `settings` module directly to configure a global setting's value. For example, `ox.settings.log_console=True`.\n",
      "  ox.config(use_cache=True, log_console=True, useful_tags_way=utw)\n"
     ]
    }
   ],
   "source": [
    "import OSM2AT\n",
    "import osmnx as ox\n",
    "import geopandas as gpd\n",
    "import pandas as pd\n",
    "from geopandas import GeoDataFrame\n",
    "import matplotlib.pyplot as plt\n",
    "\n",
    "def min_max_normalize(column):\n",
    "    min_val = column.min()\n",
    "    max_val = column.max()\n",
    "    normalized_column = (column - min_val) / (max_val - min_val)\n",
    "    return normalized_column"
   ]
  },
  {
   "cell_type": "markdown",
   "metadata": {},
   "source": [
    "### Part 1 - get Greenwich from OSM2AT"
   ]
  },
  {
   "cell_type": "code",
   "execution_count": 7,
   "metadata": {},
   "outputs": [
    {
     "name": "stderr",
     "output_type": "stream",
     "text": [
      "/home/chris/miniconda3/envs/ate/lib/python3.10/site-packages/OSM2AT/get_at_networks.py:55: UserWarning: Geometry is in a geographic CRS. Results from 'centroid' are likely incorrect. Use 'GeoSeries.to_crs()' to re-project geometries to a projected CRS before this operation.\n",
      "\n",
      "  edge_attributes['cent_x'] = edge_attributes['geometry'].centroid.x\n",
      "/home/chris/miniconda3/envs/ate/lib/python3.10/site-packages/OSM2AT/get_at_networks.py:56: UserWarning: Geometry is in a geographic CRS. Results from 'centroid' are likely incorrect. Use 'GeoSeries.to_crs()' to re-project geometries to a projected CRS before this operation.\n",
      "\n",
      "  edge_attributes['cent_y'] = edge_attributes['geometry'].centroid.y\n"
     ]
    },
    {
     "name": "stdout",
     "output_type": "stream",
     "text": [
      "Imputing Max Speed\n",
      "Imputing data using method - Mode Rule\n",
      "Data imputed\n",
      "Imputing Number of Lanes\n",
      "Imputing data using method - Mode Rule\n",
      "Data imputed\n",
      "Imputing Surface\n",
      "Index(['osmid', 'oneway', 'highway', 'surface', 'lit', 'bicycle', 'segregated',\n",
      "       'reversed', 'length', 'name', 'maxspeed', 'motor_vehicle', 'lanes',\n",
      "       'ref', 'cycleway:left', 'cycleway:both', 'sidewalk',\n",
      "       'cycleway:left:oneway', 'cycleway', 'cycleway:right', 'junction',\n",
      "       'cycleway:lane', 'cycleway:surface', 'bridge', 'service', 'access',\n",
      "       'bus', 'cycleway:right:oneway', 'width', 'tunnel', 'area', 'footway',\n",
      "       'bicycle:conditional', 'busway', 'est_width', 'path', 'geometry',\n",
      "       'cent_x', 'cent_y', 'edge_index'],\n",
      "      dtype='object')\n",
      "Imputing data using method - mode rule\n",
      "Data imputed\n",
      "Calculating LTS using Ottawa Advocacy Group method\n"
     ]
    },
    {
     "name": "stderr",
     "output_type": "stream",
     "text": [
      "/home/chris/miniconda3/envs/ate/lib/python3.10/site-packages/osmnx/io.py:361: UserWarning: For the `save_graph_xml` function to behave properly, the graph must have been created with `ox.settings.all_oneway=True`.\n",
      "  osm_xml._save_graph_xml(\n",
      "/home/chris/miniconda3/envs/ate/lib/python3.10/site-packages/osmnx/osm_xml.py:279: FutureWarning: Setting an item of incompatible dtype is deprecated and will raise in a future error of pandas. Value '['False' 'False' 'False' ... 'True' 'True' 'True']' has dtype incompatible with bool, please explicitly cast to a compatible dtype first.\n",
      "  gdf_edges.loc[:, \"oneway\"] = gdf_edges[\"oneway\"].astype(str)\n"
     ]
    }
   ],
   "source": [
    "G, edges = OSM2AT.get_cycle_network(None,'mode-rule','ottawa','place','Greenwich, London')\n",
    "\n",
    "edge_attributes_gdf = GeoDataFrame(edges, crs=\"EPSG:4326\", geometry=edges['geometry'])\n",
    "edge_attributes_gdf.columns = edge_attributes_gdf.columns.astype(str)\n",
    "edge_attributes_gdf.to_file(\"../examples/greenwich/edges.json\", driver=\"GeoJSON\")\n",
    "\n",
    "ox.save_graph_xml(G,'../examples/greenwich/network.xml')\n",
    "# upload these as github release as follows from system shell:\n",
    "# gh release upload v1 network_greenwhich.xml\n",
    "# gh release upload v1 edges.json\n",
    "# The data is available at: https://github.com/Robinlovelace/netgenhack/releases\n",
    "\n"
   ]
  },
  {
   "cell_type": "markdown",
   "metadata": {},
   "source": [
    "### Part 2 - snap strava data"
   ]
  },
  {
   "cell_type": "code",
   "execution_count": 8,
   "metadata": {},
   "outputs": [],
   "source": [
    "#Read in edges data\n",
    "edge_geoms_s = gpd.read_file('../local_data/all_edges_yearly_2019_ride_london/edges_london.shp')\n",
    "edges_counts_s = pd.read_csv('../local_data/all_edges_yearly_2019_ride_london/edges_london.csv')"
   ]
  },
  {
   "cell_type": "code",
   "execution_count": 9,
   "metadata": {},
   "outputs": [],
   "source": [
    "id2lts = {}\n",
    "id2speed = {}\n",
    "id2roadtype = {}\n",
    "ids = list(edges['osmid'])\n",
    "\n",
    "for id in ids:\n",
    "    id2lts[id] = edges[edges['osmid']==id]['LTS'].mode().values[0]\n",
    "    id2speed[id] = edges[edges['osmid']==id]['maxspeed'].mode().values[0]\n",
    "    id2roadtype[id] = edges[edges['osmid']==id]['highway'].mode().values[0]\n",
    "\n",
    "edges_counts_s['LTS'] = edges_counts_s['osm_reference_id'].map(id2lts)\n",
    "edges_counts_s['Speed'] = edges_counts_s['osm_reference_id'].map(id2speed)\n",
    "edges_counts_s['Road Type'] = edges_counts_s['osm_reference_id'].map(id2roadtype)"
   ]
  },
  {
   "cell_type": "code",
   "execution_count": 10,
   "metadata": {},
   "outputs": [],
   "source": [
    "edges_counts_s_greenwich = edges_counts_s[edges_counts_s['LTS'].notna()]"
   ]
  },
  {
   "cell_type": "code",
   "execution_count": 13,
   "metadata": {},
   "outputs": [
    {
     "name": "stderr",
     "output_type": "stream",
     "text": [
      "/tmp/ipykernel_1473/3076649626.py:1: SettingWithCopyWarning: \n",
      "A value is trying to be set on a copy of a slice from a DataFrame.\n",
      "Try using .loc[row_indexer,col_indexer] = value instead\n",
      "\n",
      "See the caveats in the documentation: https://pandas.pydata.org/pandas-docs/stable/user_guide/indexing.html#returning-a-view-versus-a-copy\n",
      "  edges_counts_s_greenwich['forward_people_count_norm'] = min_max_normalize(edges_counts_s_greenwich['forward_people_count'])\n",
      "/tmp/ipykernel_1473/3076649626.py:3: SettingWithCopyWarning: \n",
      "A value is trying to be set on a copy of a slice from a DataFrame.\n",
      "Try using .loc[row_indexer,col_indexer] = value instead\n",
      "\n",
      "See the caveats in the documentation: https://pandas.pydata.org/pandas-docs/stable/user_guide/indexing.html#returning-a-view-versus-a-copy\n",
      "  edges_counts_s_greenwich['att_{}'.format(col)] = min_max_normalize(edges_counts_s_greenwich[col]) / edges_counts_s_greenwich['forward_people_count_norm']\n",
      "/tmp/ipykernel_1473/3076649626.py:3: SettingWithCopyWarning: \n",
      "A value is trying to be set on a copy of a slice from a DataFrame.\n",
      "Try using .loc[row_indexer,col_indexer] = value instead\n",
      "\n",
      "See the caveats in the documentation: https://pandas.pydata.org/pandas-docs/stable/user_guide/indexing.html#returning-a-view-versus-a-copy\n",
      "  edges_counts_s_greenwich['att_{}'.format(col)] = min_max_normalize(edges_counts_s_greenwich[col]) / edges_counts_s_greenwich['forward_people_count_norm']\n",
      "/tmp/ipykernel_1473/3076649626.py:3: SettingWithCopyWarning: \n",
      "A value is trying to be set on a copy of a slice from a DataFrame.\n",
      "Try using .loc[row_indexer,col_indexer] = value instead\n",
      "\n",
      "See the caveats in the documentation: https://pandas.pydata.org/pandas-docs/stable/user_guide/indexing.html#returning-a-view-versus-a-copy\n",
      "  edges_counts_s_greenwich['att_{}'.format(col)] = min_max_normalize(edges_counts_s_greenwich[col]) / edges_counts_s_greenwich['forward_people_count_norm']\n",
      "/tmp/ipykernel_1473/3076649626.py:3: SettingWithCopyWarning: \n",
      "A value is trying to be set on a copy of a slice from a DataFrame.\n",
      "Try using .loc[row_indexer,col_indexer] = value instead\n",
      "\n",
      "See the caveats in the documentation: https://pandas.pydata.org/pandas-docs/stable/user_guide/indexing.html#returning-a-view-versus-a-copy\n",
      "  edges_counts_s_greenwich['att_{}'.format(col)] = min_max_normalize(edges_counts_s_greenwich[col]) / edges_counts_s_greenwich['forward_people_count_norm']\n",
      "/tmp/ipykernel_1473/3076649626.py:3: SettingWithCopyWarning: \n",
      "A value is trying to be set on a copy of a slice from a DataFrame.\n",
      "Try using .loc[row_indexer,col_indexer] = value instead\n",
      "\n",
      "See the caveats in the documentation: https://pandas.pydata.org/pandas-docs/stable/user_guide/indexing.html#returning-a-view-versus-a-copy\n",
      "  edges_counts_s_greenwich['att_{}'.format(col)] = min_max_normalize(edges_counts_s_greenwich[col]) / edges_counts_s_greenwich['forward_people_count_norm']\n",
      "/tmp/ipykernel_1473/3076649626.py:3: SettingWithCopyWarning: \n",
      "A value is trying to be set on a copy of a slice from a DataFrame.\n",
      "Try using .loc[row_indexer,col_indexer] = value instead\n",
      "\n",
      "See the caveats in the documentation: https://pandas.pydata.org/pandas-docs/stable/user_guide/indexing.html#returning-a-view-versus-a-copy\n",
      "  edges_counts_s_greenwich['att_{}'.format(col)] = min_max_normalize(edges_counts_s_greenwich[col]) / edges_counts_s_greenwich['forward_people_count_norm']\n"
     ]
    }
   ],
   "source": [
    "edges_counts_s_greenwich['forward_people_count_norm'] = min_max_normalize(edges_counts_s_greenwich['forward_people_count'])\n",
    "for col in ['forward_female_people_count','forward_male_people_count','forward_18_34_people_count','forward_35_54_people_count','forward_55_64_people_count','forward_65_plus_people_count']:\n",
    "    edges_counts_s_greenwich['att_{}'.format(col)] = min_max_normalize(edges_counts_s_greenwich[col]) / edges_counts_s_greenwich['forward_people_count_norm']"
   ]
  },
  {
   "cell_type": "code",
   "execution_count": 18,
   "metadata": {},
   "outputs": [],
   "source": [
    "#Output to visualise in QGIS\n",
    "\n",
    "flow_forward = {}\n",
    "female_dict = {}\n",
    "male_dict = {}\n",
    "age_18_34 = {}\n",
    "age_35_54 = {}\n",
    "age_55_64 = {}\n",
    "\n",
    "for id in ids:\n",
    "    try:\n",
    "        female_dict[id] = edges_counts_s_greenwich[edges_counts_s_greenwich['osm_reference_id'] == id]['att_forward_female_people_count'].mode().values[0]\n",
    "    except:\n",
    "        female_dict[id] = None\n",
    "        \n",
    "    try:\n",
    "        male_dict[id] = edges_counts_s_greenwich[edges_counts_s_greenwich['osm_reference_id'] == id]['att_forward_male_people_count'].mode().values[0]\n",
    "    except:\n",
    "        male_dict[id] = None\n",
    "        \n",
    "    try:\n",
    "        age_18_34[id] = edges_counts_s_greenwich[edges_counts_s_greenwich['osm_reference_id'] == id]['att_forward_18_34_people_count'].mode().values[0]\n",
    "    except:\n",
    "        age_18_34[id] = None\n",
    "\n",
    "    try:\n",
    "        age_35_54[id] = edges_counts_s_greenwich[edges_counts_s_greenwich['osm_reference_id'] == id]['att_forward_35_54_people_count'].mode().values[0]\n",
    "    except:\n",
    "        age_35_54[id] = None\n",
    "        \n",
    "    try:\n",
    "        age_55_64[id] = edges_counts_s_greenwich[edges_counts_s_greenwich['osm_reference_id'] == id]['att_forward_55_64_people_count'].mode().values[0]\n",
    "    except:\n",
    "        age_55_64[id] = None\n",
    "        \n",
    "        \n",
    "    try:\n",
    "        flow_forward[id] = edges_counts_s_greenwich[edges_counts_s_greenwich['osm_reference_id'] == id]['forward_people_count_norm'].mode().values[0]\n",
    "    except:\n",
    "        flow_forward[id] = None\n",
    "\n",
    "edges['flow forward'] = edges['osmid'].map(flow_forward)        \n",
    "edges['female preference'] = edges['osmid'].map(female_dict)\n",
    "edges['male preference'] = edges['osmid'].map(male_dict)\n",
    "edges['age 18 34 preference'] = edges['osmid'].map(age_18_34)\n",
    "edges['age 35 54 preference'] = edges['osmid'].map(age_35_54)\n",
    "edges['age 55 64 preference'] = edges['osmid'].map(age_55_64)"
   ]
  },
  {
   "cell_type": "markdown",
   "metadata": {},
   "source": [
    "### Part 3 - snap CSNA data"
   ]
  },
  {
   "cell_type": "code",
   "execution_count": 23,
   "metadata": {},
   "outputs": [],
   "source": [
    "csna = gpd.read_file('../local_data/CSNA/tracks_joined.geojson')\n",
    "csna['osm_id'] = csna['osm_id'].astype(int)\n",
    "edges = edges.merge(csna[['osm_id','CSNA_level']], left_on = 'osmid', right_on = 'osm_id', how = 'left')"
   ]
  },
  {
   "cell_type": "code",
   "execution_count": 29,
   "metadata": {},
   "outputs": [],
   "source": [
    "# Output to file\n",
    "edge_attributes_gdf = GeoDataFrame(edges, crs=\"EPSG:4326\", geometry=edges['geometry'])\n",
    "edge_attributes_gdf.to_file(\"../local_data/edges_augmented.json\", driver=\"GeoJSON\")"
   ]
  },
  {
   "cell_type": "markdown",
   "metadata": {},
   "source": [
    "### Part 4 - extend network to popular OD and repeate above + measure centrality"
   ]
  },
  {
   "cell_type": "code",
   "execution_count": null,
   "metadata": {},
   "outputs": [],
   "source": []
  }
 ],
 "metadata": {
  "kernelspec": {
   "display_name": "ate",
   "language": "python",
   "name": "python3"
  },
  "language_info": {
   "codemirror_mode": {
    "name": "ipython",
    "version": 3
   },
   "file_extension": ".py",
   "mimetype": "text/x-python",
   "name": "python",
   "nbconvert_exporter": "python",
   "pygments_lexer": "ipython3",
   "version": "3.1.0"
  }
 },
 "nbformat": 4,
 "nbformat_minor": 2
}
